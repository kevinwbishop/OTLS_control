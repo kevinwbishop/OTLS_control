{
 "cells": [
  {
   "cell_type": "code",
   "execution_count": 5,
   "metadata": {},
   "outputs": [],
   "source": [
    "import json\n",
    "from lsmfx_dummy import experiment"
   ]
  },
  {
   "cell_type": "code",
   "execution_count": 24,
   "metadata": {},
   "outputs": [],
   "source": [
    "data = {\n",
    "    'camera': {\n",
    "        'number': 0,\n",
    "        'Y': 256, # frame size in pixels\n",
    "        'X': 2048,\n",
    "        'shutterMode': 'top middle bottom middle',\n",
    "        'triggerMode': 'auto sequence',\n",
    "        'acquireMode': 'external',\n",
    "        'compressionMode': 1\n",
    "    },\n",
    "    'experiment': {\n",
    "        'overlap': 30, # number of px overlap in Y and Z between tiles\n",
    "        'theta': 45.0, # light sheet angle in deg\n",
    "    },\n",
    "    'daq': {\n",
    "        'rate': 4e5, # Hz\n",
    "        'board': 'Dev3',\n",
    "        'num_channels': 32, # AO channels\n",
    "        'names_to_channels': {\n",
    "            'xgalvo': 0,\n",
    "            'ygalvo': 1,\n",
    "            'camera2_ex': 2,\n",
    "            'camera2_aq': 3,\n",
    "            'camera0_ex': 4,\n",
    "            'camera0_aq': 5,\n",
    "            'etl': 6,\n",
    "            'daq_active': 7,  # adjusting behavior of this!\n",
    "            '405': 8,\n",
    "            '488': 9,\n",
    "            '561': 11,\n",
    "            '638': 12\n",
    "            }\n",
    "    }\n",
    "}\n",
    "with open('data_file.json', 'w') as write_file:\n",
    "    json.dump(data, write_file)"
   ]
  },
  {
   "cell_type": "code",
   "execution_count": 25,
   "metadata": {},
   "outputs": [],
   "source": [
    "with open('data_file.json', 'r') as read_file:\n",
    "    data_in = json.load(read_file)"
   ]
  },
  {
   "cell_type": "code",
   "execution_count": 26,
   "metadata": {},
   "outputs": [
    {
     "data": {
      "text/plain": [
       "{'camera': {'number': 0,\n",
       "  'Y': 256,\n",
       "  'X': 2048,\n",
       "  'shutterMode': 'top middle bottom middle',\n",
       "  'triggerMode': 'auto sequence',\n",
       "  'acquireMode': 'external',\n",
       "  'compressionMode': 1},\n",
       " 'experiment': {'overlap': 30, 'theta': 45.0},\n",
       " 'daq': {'rate': 400000.0,\n",
       "  'board': 'Dev3',\n",
       "  'num_channels': 32,\n",
       "  'names_to_channels': {'xgalvo': 0,\n",
       "   'ygalvo': 1,\n",
       "   'camera2_ex': 2,\n",
       "   'camera2_aq': 3,\n",
       "   'camera0_ex': 4,\n",
       "   'camera0_aq': 5,\n",
       "   'etl': 6,\n",
       "   'daq_active': 7,\n",
       "   '405': 8,\n",
       "   '488': 9,\n",
       "   '561': 11,\n",
       "   '638': 12}}}"
      ]
     },
     "execution_count": 26,
     "metadata": {},
     "output_type": "execute_result"
    }
   ],
   "source": [
    "data_in"
   ]
  },
  {
   "cell_type": "code",
   "execution_count": 28,
   "metadata": {},
   "outputs": [
    {
     "data": {
      "text/plain": [
       "8"
      ]
     },
     "execution_count": 28,
     "metadata": {},
     "output_type": "execute_result"
    }
   ],
   "source": [
    "data_in['daq']['names_to_channels']['405']"
   ]
  },
  {
   "cell_type": "code",
   "execution_count": 21,
   "metadata": {},
   "outputs": [],
   "source": [
    "experiment.drive = 'J'\n",
    "bob = experiment()\n",
    "bob.drive = 'Hello'"
   ]
  },
  {
   "cell_type": "code",
   "execution_count": 23,
   "metadata": {},
   "outputs": [
    {
     "data": {
      "text/plain": [
       "lsmfx_dummy.experiment"
      ]
     },
     "execution_count": 23,
     "metadata": {},
     "output_type": "execute_result"
    }
   ],
   "source": [
    "type(bob)"
   ]
  },
  {
   "cell_type": "markdown",
   "metadata": {},
   "source": [
    "What should be done with parameters calculated from things the user defines (e.g. pixel sampling from um to pixel)?\n",
    "\n",
    "What does lsm-python-main.py do when it says 'camera.number = 0' -> "
   ]
  }
 ],
 "metadata": {
  "kernelspec": {
   "display_name": "Python 3.7.3 64-bit",
   "language": "python",
   "name": "python3"
  },
  "language_info": {
   "codemirror_mode": {
    "name": "ipython",
    "version": 3
   },
   "file_extension": ".py",
   "mimetype": "text/x-python",
   "name": "python",
   "nbconvert_exporter": "python",
   "pygments_lexer": "ipython3",
   "version": "3.7.3"
  },
  "orig_nbformat": 4,
  "vscode": {
   "interpreter": {
    "hash": "31f2aee4e71d21fbe5cf8b01ff0e069b9275f58929596ceb00d14d90e3e16cd6"
   }
  }
 },
 "nbformat": 4,
 "nbformat_minor": 2
}
